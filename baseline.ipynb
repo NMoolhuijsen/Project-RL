{
 "cells": [
  {
   "cell_type": "code",
   "execution_count": 1,
   "metadata": {},
   "outputs": [
    {
     "name": "stdout",
     "output_type": "stream",
     "text": [
      "Requirement already satisfied: openpyxl in c:\\users\\nikki\\documents\\uni\\master\\projectreinforcementlearning\\assignment\\practical_sessions_rl\\venv\\lib\\site-packages (3.1.2)\n",
      "Requirement already satisfied: et-xmlfile in c:\\users\\nikki\\documents\\uni\\master\\projectreinforcementlearning\\assignment\\practical_sessions_rl\\venv\\lib\\site-packages (from openpyxl) (1.1.0)\n"
     ]
    },
    {
     "name": "stderr",
     "output_type": "stream",
     "text": [
      "\n",
      "[notice] A new release of pip is available: 23.3.1 -> 23.3.2\n",
      "[notice] To update, run: python.exe -m pip install --upgrade pip\n"
     ]
    }
   ],
   "source": [
    "import pandas as pd\n",
    "import numpy as np\n",
    "!pip install openpyxl"
   ]
  },
  {
   "cell_type": "code",
   "execution_count": 36,
   "metadata": {},
   "outputs": [
    {
     "name": "stdout",
     "output_type": "stream",
     "text": [
      "      PRICES  Hour 01  Hour 02  Hour 03  Hour 04  Hour 05  Hour 06  Hour 07  \\\n",
      "0 2007-01-01    24.31    24.31    21.71     8.42     0.01     0.01     0.02   \n",
      "1 2007-01-02    16.01    11.00     9.01     7.50     9.00     7.45    16.50   \n",
      "2 2007-01-03    28.00    24.50    24.15    18.99    15.50    23.11    29.01   \n",
      "3 2007-01-04    31.01    28.69    27.00    24.20    12.02    27.00    28.00   \n",
      "4 2007-01-05    22.00    19.50    17.55    15.91    11.40    22.65    27.30   \n",
      "\n",
      "   Hour 08  Hour 09  ...  Hour 15  Hour 16  Hour 17  Hour 18  Hour 19  \\\n",
      "0     0.01     0.01  ...    15.00    10.00     8.17    27.77    37.99   \n",
      "1    28.01    29.96  ...    37.57    36.45    37.99    53.00    59.69   \n",
      "2    39.73    43.81  ...    43.21    43.99    48.00    57.00    60.99   \n",
      "3    34.85    41.31  ...    40.01    38.00    42.66    53.00    58.99   \n",
      "4    34.00    40.01  ...    40.06    38.00    38.61    49.84    53.00   \n",
      "\n",
      "   Hour 20  Hour 21  Hour 22  Hour 23  Hour 24  \n",
      "0    33.11    37.99    33.00    36.48    30.65  \n",
      "1    50.09    50.00    36.22    31.09    29.84  \n",
      "2    55.51    51.77    34.51    39.31    38.05  \n",
      "3    53.50    44.01    35.00    34.46    31.57  \n",
      "4    45.91    36.74    29.61    30.61    27.51  \n",
      "\n",
      "[5 rows x 25 columns]\n"
     ]
    }
   ],
   "source": [
    "# Read in the data\n",
    "data = pd.read_excel('train.xlsx')\n",
    "print(data.head())"
   ]
  },
  {
   "cell_type": "code",
   "execution_count": 42,
   "metadata": {},
   "outputs": [],
   "source": [
    "from datetime import datetime\n",
    "\n",
    "def get_max_price(data):\n",
    "    # drop first colum ('PRICES')\n",
    "    data = data.drop('PRICES', axis=1)\n",
    "    \n",
    "    # get max price for each row\n",
    "    max_price = 0\n",
    "    for i in range(len(data)):\n",
    "        max_row_price = max(data.iloc[i])\n",
    "        \n",
    "        if max_row_price > max_price:\n",
    "            max_price = max_row_price \n",
    "    \n",
    "    return max_price"
   ]
  },
  {
   "cell_type": "code",
   "execution_count": 47,
   "metadata": {},
   "outputs": [],
   "source": [
    "# create environments\n",
    "# !pip install gym\n",
    "import gym\n",
    "from gym import spaces\n",
    "import numpy as np\n",
    "\n",
    "class CustomEnv(gym.Env):\n",
    "    \n",
    "    def __init__(self, data):\n",
    "        # Define action space and observation space\n",
    "        self.data = data\n",
    "        self.action_space = spaces.Discrete(3)  # 3 actions: sell, buy, nothing\n",
    "        self.capacity = np.random.randint(0, 50) # random capacity between 0 and 50\n",
    "        self.piggy_bank = 0\n",
    "\n",
    "        self.month = 1\n",
    "        self.hour = 1\n",
    "        self.price = data.iloc[0, 1]\n",
    "        self.date = 0\n",
    "        self.state = np.array([self.price, self.hour, self.month])\n",
    "        self.bin_amount = 10\n",
    "            \n",
    "        # create observation space with price, hour and month\n",
    "        self.lows = np.array([0, 1, 1])  \n",
    "        self.highs = np.array([get_max_price(data), 24, 12])\n",
    "        self.observation_space = spaces.Box(low=self.lows, high=self.highs, dtype=np.float32)\n",
    "\n",
    "        # bins\n",
    "        self.price_bins = np.linspace(0, get_max_price(data), self.bin_amount)\n",
    "        self.bins = [self.price_bins, np.linspace(1, 24, 24), np.linspace(1, 12, 12)]\n",
    "\n",
    "        # create q-table\n",
    "        self.q_table = np.zeros((self.bin_amount - 1, 24, 12, 3)) # price, hour, month, action\n",
    "        \n",
    "        self.discount_rate = 0.95\n",
    "        self.epsilon = 0.9\n",
    "        \n",
    "        self.go_out = False\n",
    "\n",
    "    def discretize_state(self, state):\n",
    "        self.state = state\n",
    "        \n",
    "        #Create an empty state\n",
    "        digitized_state = []\n",
    "    \n",
    "        for i in range(len(self.bins)):\n",
    "            digitized_state.append(np.digitize(self.state[i], self.bins[i])-1)\n",
    "        \n",
    "        #Returns the discretized state from an observation\n",
    "        return digitized_state\n",
    "\n",
    "    def reset(self): \n",
    "\n",
    "        # get random hour (1-24) \n",
    "        self.hour = np.random.randint(1, 25)\n",
    "        \n",
    "        # pick random row from data to get random price\n",
    "        self.date = np.random.randint(0, len(self.data))\n",
    "        \n",
    "        # get month based on date\n",
    "        self.month = self.data.iloc[self.date, 0].month\n",
    "        \n",
    "        # get price\n",
    "        self.price = self.data.iloc[self.date, self.hour]\n",
    "            \n",
    "        # Reset the environment to its initial state and return the initial observation\n",
    "        self.initial_observation = np.array([self.price, self.hour, self.month])\n",
    "        \n",
    "        self.state = self.initial_observation\n",
    "            \n",
    "    \n",
    "    def choose_action(self, action):\n",
    "        # Choose an action from the action space\n",
    "        if np.random.uniform(0,1) > 1-self.epsilon: # \n",
    "            \n",
    "            #This picks a random action from 0,1,2\n",
    "            action = np.random.randint(0,3)    \n",
    "                    \n",
    "        #Pick a greedy action with chance 1-epsilon\n",
    "        else:\n",
    "            action = np.argmax(self.q_table[self.state[0], self.state[1], self.state[2]])\n",
    "        \n",
    "        # charge car if capacity is below 20 for 8 o'clock\n",
    "        if self.hour == 7 and self.capacity < 20:\n",
    "            action = 1\n",
    "            \n",
    "        # with chance of 50% car is taken out between 8 and 16\n",
    "        elif self.hour == 8:\n",
    "            if np.random.randint(0, 2) == 1: # 50% chance\n",
    "                    self.go_out = True \n",
    "            \n",
    "        # if car is out, action will be nothing\n",
    "        elif self.hour >= 8 and self.hour < 17 and self.go_out == True:\n",
    "            action = 2\n",
    "        \n",
    "        # car is back at 17 o'clock, reset go_out\n",
    "        elif self.hour == 17:\n",
    "            self.go_out = False\n",
    "                 \n",
    "        return action\n",
    "\n",
    "    def step(self, action):\n",
    "        # Take an action in the environment and return the new observation, reward, done flag, and additional information\n",
    "        # Example logic (you'll need to define your own environment dynamics)\n",
    "        \n",
    "        action = self.choose_action(action)\n",
    "\n",
    "        # calculate rewards and capacity\n",
    "        if action == 0: # sell\n",
    "            if self.capacity < 25:\n",
    "                reward = - ((2 * (self.price / 1000))  * self.capacity)\n",
    "                self.capacity = 0\n",
    "            else:\n",
    "                reward = (self.price / 1000) * 25\n",
    "                self.capacity = self.capacity - 25\n",
    "        \n",
    "        elif action == 1: # buy\n",
    "            if self.capacity > 25:\n",
    "                reward = - ((2 * (self.price / 1000))  * (50 - self.capacity))\n",
    "                self.capacity = 50              \n",
    "            else:\n",
    "                reward =  - ((2 * (self.price / 1000))  * 25)\n",
    "                self.capacity = self.capacity + 25\n",
    "        \n",
    "        elif action == 2: # nothing\n",
    "            reward = 0\n",
    "\n",
    "        if self.hour == 24:\n",
    "            self.hour = 1\n",
    "            self.date = self.date + 1\n",
    "            \n",
    "        else:\n",
    "            self.hour = self.hour + 1 \n",
    "\n",
    "        \n",
    "        \n",
    "        if self.date > len(self.data):\n",
    "            # end of data\n",
    "            done = True\n",
    "        else:\n",
    "            self.month = self.data.iloc[self.date, 0].month\n",
    "            self.price = self.data.iloc[self.date, self.hour]\n",
    "                \n",
    "        # update state\n",
    "        self.state = np.array([self.price, self.hour, self.month])\n",
    "        \n",
    "        return reward, done\n",
    "\n",
    "    def render(self, mode='human'):\n",
    "        # Visualize the environment (optional)\n",
    "        pass\n",
    "\n",
    "    def close(self):\n",
    "        # Close the environment or perform cleanup (optional)\n",
    "        pass\n"
   ]
  },
  {
   "cell_type": "code",
   "execution_count": 48,
   "metadata": {},
   "outputs": [
    {
     "name": "stdout",
     "output_type": "stream",
     "text": [
      "[99.96 11.    2.  ]\n"
     ]
    },
    {
     "name": "stderr",
     "output_type": "stream",
     "text": [
      "c:\\Users\\nikki\\Documents\\Uni\\Master\\ProjectReinforcementLearning\\Assignment\\practical_sessions_RL\\venv\\lib\\site-packages\\gym\\spaces\\box.py:127: UserWarning: \u001b[33mWARN: Box bound precision lowered by casting to float32\u001b[0m\n",
      "  logger.warn(f\"Box bound precision lowered by casting to {self.dtype}\")\n"
     ]
    },
    {
     "data": {
      "text/plain": [
       "[0, 10, 1]"
      ]
     },
     "execution_count": 48,
     "metadata": {},
     "output_type": "execute_result"
    }
   ],
   "source": [
    "test = CustomEnv(data)\n",
    "test.reset()\n",
    "print(test.state)\n",
    "test.discretize_state(test.state)"
   ]
  }
 ],
 "metadata": {
  "kernelspec": {
   "display_name": "venv",
   "language": "python",
   "name": "venv"
  },
  "language_info": {
   "codemirror_mode": {
    "name": "ipython",
    "version": 3
   },
   "file_extension": ".py",
   "mimetype": "text/x-python",
   "name": "python",
   "nbconvert_exporter": "python",
   "pygments_lexer": "ipython3",
   "version": "3.9.13"
  }
 },
 "nbformat": 4,
 "nbformat_minor": 2
}
